{
 "cells": [
  {
   "cell_type": "markdown",
   "metadata": {},
   "source": [
    "# 패키지 설치"
   ]
  },
  {
   "cell_type": "code",
   "execution_count": null,
   "metadata": {},
   "outputs": [],
   "source": [
    "pip install openai"
   ]
  },
  {
   "cell_type": "markdown",
   "metadata": {},
   "source": [
    "# 답변 생성 및 추출"
   ]
  },
  {
   "cell_type": "code",
   "execution_count": null,
   "metadata": {},
   "outputs": [],
   "source": [
    "import openai\n",
    "\n",
    "client = openai.OpenAI(api_key='api_key')\n",
    "\n",
    "response = client.chat.completions.create(\n",
    "    model='gpt-4o-mini-2024-07-18',\n",
    "    messages=[\n",
    "        {'role':'system', 'content':'너는 데이터분석 전문가야'},\n",
    "        {'role':'user', 'content':'sql과 python 역량을 어필할 수 있는 데이터분석 프로젝트를 제안해줘.'}\n",
    "    ]\n",
    ")\n",
    "\n",
    "print(response.choices[0].message.content)"
   ]
  },
  {
   "cell_type": "markdown",
   "metadata": {},
   "source": [
    "# 소모 토큰, 비용 확인하기"
   ]
  },
  {
   "cell_type": "code",
   "execution_count": 5,
   "metadata": {},
   "outputs": [
    {
     "name": "stdout",
     "output_type": "stream",
     "text": [
      "CompletionUsage(completion_tokens=679, prompt_tokens=39, total_tokens=718)\n"
     ]
    }
   ],
   "source": [
    "print(response.usage)"
   ]
  },
  {
   "cell_type": "code",
   "execution_count": 6,
   "metadata": {},
   "outputs": [
    {
     "data": {
      "text/plain": [
       "0.0014165"
      ]
     },
     "execution_count": 6,
     "metadata": {},
     "output_type": "execute_result"
    }
   ],
   "source": [
    "total_bill = response.usage.prompt_tokens * 0.0015/1000 + response.usage.completion_tokens * 0.002/1000\n",
    "total_bill"
   ]
  },
  {
   "cell_type": "code",
   "execution_count": 7,
   "metadata": {},
   "outputs": [
    {
     "name": "stdout",
     "output_type": "stream",
     "text": [
      "총 발생 비용 1.8746385950000002 원\n"
     ]
    }
   ],
   "source": [
    "print(\"총 발생 비용 {} 원\".format(total_bill*1323.43))"
   ]
  },
  {
   "cell_type": "markdown",
   "metadata": {},
   "source": [
    "# 모델한테 사전 지식 주입시킨 뒤 답변 받기"
   ]
  },
  {
   "cell_type": "code",
   "execution_count": null,
   "metadata": {},
   "outputs": [
    {
     "name": "stdout",
     "output_type": "stream",
     "text": [
      "2002년 월드컵에서 한국은 기존의 예상을 깨고 많은 사람들을 놀라게 했습니다. 그래서 화제가 되었던 이유는 여러 가지가 있습니다.\n",
      "\n",
      "1. 역대 최고 실적: 한국은 이전 월드컵에서 좋은 성적을 거두지 못했기 때문에 기대가 크지 않았습니다. 하지만 한국은 올해 월드컵에서 역대 최고 실적인 4강에 진출하여 많은 사람들을 놀라게 했습니다.\n",
      "\n",
      "2. 호주와의 조직적인 승리: 첫 경기에서 호주와 맞붙었을 때, 한국은 조직적이고 전략적인 플레이를 통해 2-1로 승리하였습니다. 이로써 멕시코와의 경기에서 승점이 크게 중요해지고, 한국은 놀라운 경기력을 보여주며 1-0으로 승리하였습니다.\n",
      "\n",
      "3. 이태리와의 경기: 16강에서 한국은 강력한 이태리와 맞대결을 하였습니다. 이태리는 강팀으로 알려져 있었고, 한국은 상대적으로 어려운 상황이었습니다. 하지만 90분동안 스코어를 지키며 무승부로 맞섰고, 연장전에서 한국은 이태리에게 패널티킥으로 2골을 넣어 승리하였습니다.\n",
      "\n",
      "4. 세계 각국에서의 지지와 관심: 한국의 놀라운 실적으로 인해 세계 각국에서 많은 사람들이 한국을 응원하고 지지하는 움직임이 생겼습니다. 많은 관객들이 한국을 응원하기 위해 한국 뿐만 아니라 독일, 일본 등 다른 지역으로 여행을 와 응원하는 모습이 보였습니다.\n",
      "\n",
      "이처럼 한국이 2002년 월드컵에서 화제가 되었던 이유는 예상하던 것과 다른 경기력과 실적을 보여주었기 때문입니다. 이로 인해 한국은 월드컵 역사에 긍정적인 기록을 남기며 많은 사람들의 기억에 남게 되었습니다.\n"
     ]
    }
   ],
   "source": [
    "response = client.chat.completions.create(\n",
    " model=\"gpt-3.5-turbo\",\n",
    " messages=[\n",
    " {\"role\": \"user\", \"content\": \"2002년 월드컵에서 가장 화제가 되었던 나라는 어디야?\"}, # 이전 질문\n",
    " {\"role\": \"assistant\", \"content\": \"바로 예상을 뚫고 4강 진출 신화를 일으킨 한국입니다.\"}, # 이전 답변\n",
    " {\"role\": \"user\", \"content\": \"그 나라가 화제가 되었던 이유를 자세하게 설명해줘\"} # 마지막 질문\n",
    " ]\n",
    ")\n",
    "print(response.choices[0].message.content)"
   ]
  }
 ],
 "metadata": {
  "kernelspec": {
   "display_name": "Python 3",
   "language": "python",
   "name": "python3"
  },
  "language_info": {
   "codemirror_mode": {
    "name": "ipython",
    "version": 3
   },
   "file_extension": ".py",
   "mimetype": "text/x-python",
   "name": "python",
   "nbconvert_exporter": "python",
   "pygments_lexer": "ipython3",
   "version": "3.12.5"
  }
 },
 "nbformat": 4,
 "nbformat_minor": 2
}
